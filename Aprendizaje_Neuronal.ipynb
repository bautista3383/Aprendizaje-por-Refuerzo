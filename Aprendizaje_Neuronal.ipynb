{
  "nbformat": 4,
  "nbformat_minor": 0,
  "metadata": {
    "colab": {
      "provenance": [],
      "authorship_tag": "ABX9TyP9J8fDnoFya28Od+HK8jkH",
      "include_colab_link": true
    },
    "kernelspec": {
      "name": "python3",
      "display_name": "Python 3"
    },
    "language_info": {
      "name": "python"
    }
  },
  "cells": [
    {
      "cell_type": "markdown",
      "metadata": {
        "id": "view-in-github",
        "colab_type": "text"
      },
      "source": [
        "<a href=\"https://colab.research.google.com/github/bautista3383/Aprendizaje-por-Refuerzo/blob/main/Aprendizaje_Neuronal.ipynb\" target=\"_parent\"><img src=\"https://colab.research.google.com/assets/colab-badge.svg\" alt=\"Open In Colab\"/></a>"
      ]
    },
    {
      "cell_type": "markdown",
      "source": [
        "# Convertir grados Celsius a Fahrenheit"
      ],
      "metadata": {
        "id": "U-pMYHz-iKpZ"
      }
    },
    {
      "cell_type": "code",
      "execution_count": 1,
      "metadata": {
        "colab": {
          "base_uri": "https://localhost:8080/"
        },
        "id": "cGiI2_g-OVfy",
        "outputId": "9e647fe4-7b53-438f-b4a4-210440b4a836"
      },
      "outputs": [
        {
          "output_type": "stream",
          "name": "stdout",
          "text": [
            "-40 grados Celsius son -40.0 grados Fahrenheit.\n",
            "-101 grados Celsius son -149.8 grados Fahrenheit.\n",
            "151 grados Celsius son 303.8 grados Fahrenheit.\n",
            "221 grados Celsius son 429.8 grados Fahrenheit.\n",
            "38 grados Celsius son 100.4 grados Fahrenheit.\n",
            "100 grados Celsius son 212.0 grados Fahrenheit.\n"
          ]
        }
      ],
      "source": [
        "def celsius_a_fahrenheit(celsius):\n",
        "  \"\"\"Convierte grados Celsius a Fahrenheit.\"\"\"\n",
        "  fahrenheit = (celsius * 9/5) + 32\n",
        "  return fahrenheit\n",
        "\n",
        "# Lista de valores en grados Celsius:\n",
        "valores_celsius = [-40, -101, 151, 221, 38, 100]\n",
        "\n",
        "# Convertir cada valor a Fahrenheit e imprimir el resultado:\n",
        "for grados_celsius in valores_celsius:\n",
        "  grados_fahrenheit = celsius_a_fahrenheit(grados_celsius)\n",
        "  print(f\"{grados_celsius} grados Celsius son {grados_fahrenheit} grados Fahrenheit.\")"
      ]
    },
    {
      "cell_type": "markdown",
      "source": [
        "# Redes neuronales"
      ],
      "metadata": {
        "id": "uI6xc8MzS9JI"
      }
    },
    {
      "cell_type": "code",
      "source": [
        "import tensorflow as tf\n",
        "import numpy as np"
      ],
      "metadata": {
        "id": "SAszg0CJTEgX"
      },
      "execution_count": 2,
      "outputs": []
    },
    {
      "cell_type": "code",
      "source": [
        "celsius = np.array([-40,-10,0,8,15,22,38],dtype=float)\n",
        "fahrenheit = np.array([-40,14,32,46,59,72,100],dtype=float)"
      ],
      "metadata": {
        "id": "hwTmo0h-TPNt"
      },
      "execution_count": 3,
      "outputs": []
    },
    {
      "cell_type": "code",
      "source": [
        "capa = tf.keras.layers.Dense(units=1,input_shape=[1])\n",
        "modelo = tf.keras.Sequential([capa])"
      ],
      "metadata": {
        "colab": {
          "base_uri": "https://localhost:8080/"
        },
        "id": "nsFQyLJ7TUlY",
        "outputId": "3b9a2b27-1371-4ab5-bd95-cdb1461a230f"
      },
      "execution_count": 4,
      "outputs": [
        {
          "output_type": "stream",
          "name": "stderr",
          "text": [
            "/usr/local/lib/python3.12/dist-packages/keras/src/layers/core/dense.py:93: UserWarning: Do not pass an `input_shape`/`input_dim` argument to a layer. When using Sequential models, prefer using an `Input(shape)` object as the first layer in the model instead.\n",
            "  super().__init__(activity_regularizer=activity_regularizer, **kwargs)\n"
          ]
        }
      ]
    },
    {
      "cell_type": "code",
      "source": [
        "modelo.compile(\n",
        "  optimizer=tf. keras.optimizers.Adam(0.1),\n",
        "  loss='mean_squared_error'\n",
        ")"
      ],
      "metadata": {
        "id": "p_-JQcE2Tb2M"
      },
      "execution_count": 5,
      "outputs": []
    },
    {
      "cell_type": "code",
      "source": [
        "print(\"start entrenamiento...\")\n",
        "historial=modelo.fit(celsius, fahrenheit, epochs=1000, verbose=False)\n",
        "print(\"modelo entrenado!\")"
      ],
      "metadata": {
        "colab": {
          "base_uri": "https://localhost:8080/"
        },
        "id": "b0sgL6sdZPUv",
        "outputId": "d7e6ead0-b74a-4993-9e5c-72467aeb5af1"
      },
      "execution_count": 6,
      "outputs": [
        {
          "output_type": "stream",
          "name": "stdout",
          "text": [
            "start entrenamiento...\n",
            "modelo entrenado!\n"
          ]
        }
      ]
    },
    {
      "cell_type": "code",
      "source": [
        "import matplotlib.pyplot as plt\n",
        "plt.xlabel(\"Epoca\")\n",
        "plt.ylabel(\"Magnitud de perdida\")\n",
        "plt. plot (historial.history [\"loss\"])"
      ],
      "metadata": {
        "colab": {
          "base_uri": "https://localhost:8080/",
          "height": 466
        },
        "id": "wn-AMFrZZm7d",
        "outputId": "b149744c-2085-4551-cc80-ad78017c2a30"
      },
      "execution_count": 7,
      "outputs": [
        {
          "output_type": "execute_result",
          "data": {
            "text/plain": [
              "[<matplotlib.lines.Line2D at 0x7f3410e5b1d0>]"
            ]
          },
          "metadata": {},
          "execution_count": 7
        },
        {
          "output_type": "display_data",
          "data": {
            "text/plain": [
              "<Figure size 640x480 with 1 Axes>"
            ],
            "image/png": "[encoded data removed]"
          },
          "metadata": {}
        }
      ]
    },
    {
      "cell_type": "code",
      "source": [
        "print(\"realizando predicción!\")\n",
        "entrada = np.array([[100.0]], dtype=np.float32)\n",
        "resultado = modelo.predict(entrada)\n",
        "print(\"El resultado es \" + str(resultado[0][0]) + \"fahrenheit!\")"
      ],
      "metadata": {
        "colab": {
          "base_uri": "https://localhost:8080/"
        },
        "id": "VA5kkq9okoAG",
        "outputId": "49f9b26e-0037-45e6-e9f6-c4263f55c71e"
      },
      "execution_count": 8,
      "outputs": [
        {
          "output_type": "stream",
          "name": "stdout",
          "text": [
            "realizando predicción!\n",
            "\u001b[1m1/1\u001b[0m \u001b[32m━━━━━━━━━━━━━━━━━━━━\u001b[0m\u001b[37m\u001b[0m \u001b[1m0s\u001b[0m 55ms/step\n",
            "El resultado es 211.74156fahrenheit!\n"
          ]
        }
      ]
    },
    {
      "cell_type": "markdown",
      "source": [
        "## Con 3 Capas"
      ],
      "metadata": {
        "id": "7xr_bfWVidm5"
      }
    },
    {
      "cell_type": "code",
      "source": [
        "capa1 = tf.keras.layers.Dense(units=3, input_shape=[1])\n",
        "capa2 = tf.keras.layers.Dense(units=3)\n",
        "salida = tf.keras.layers.Dense(units=1)\n",
        "modelo = tf.keras.Sequential([capa1,capa2,salida])"
      ],
      "metadata": {
        "id": "CJHjcqrfiiql"
      },
      "execution_count": 9,
      "outputs": []
    },
    {
      "cell_type": "code",
      "source": [
        "modelo.compile(\n",
        "  optimizer=tf. keras.optimizers.Adam(0.1),\n",
        "  loss='mean_squared_error'\n",
        ")"
      ],
      "metadata": {
        "id": "Cobx5NuLipp5"
      },
      "execution_count": 10,
      "outputs": []
    },
    {
      "cell_type": "code",
      "source": [
        "print(\"start entrenamiento...\")\n",
        "historial=modelo.fit(celsius, fahrenheit, epochs=1000, verbose=False)\n",
        "print(\"modelo entrenado!\")"
      ],
      "metadata": {
        "colab": {
          "base_uri": "https://localhost:8080/"
        },
        "id": "XjUmqjdqipca",
        "outputId": "d24f932d-f709-4f78-f3b5-a026765cde78"
      },
      "execution_count": 11,
      "outputs": [
        {
          "output_type": "stream",
          "name": "stdout",
          "text": [
            "start entrenamiento...\n",
            "modelo entrenado!\n"
          ]
        }
      ]
    },
    {
      "cell_type": "code",
      "source": [
        "import matplotlib.pyplot as plt\n",
        "plt.xlabel(\"Epoca\")\n",
        "plt.ylabel(\"Magnitud de perdida\")\n",
        "plt. plot (historial.history [\"loss\"])"
      ],
      "metadata": {
        "colab": {
          "base_uri": "https://localhost:8080/",
          "height": 466
        },
        "id": "NHRtNn3sipMY",
        "outputId": "c17e00e8-6df0-49dc-a443-ccf33ec42946"
      },
      "execution_count": 12,
      "outputs": [
        {
          "output_type": "execute_result",
          "data": {
            "text/plain": [
              "[<matplotlib.lines.Line2D at 0x7f3410eec740>]"
            ]
          },
          "metadata": {},
          "execution_count": 12
        },
        {
          "output_type": "display_data",
          "data": {
            "text/plain": [
              "<Figure size 640x480 with 1 Axes>"
            ],
            "image/png": "[encoded data removed]"
          },
          "metadata": {}
        }
      ]
    },
    {
      "cell_type": "code",
      "source": [
        "print(\"realizando predicción!\")\n",
        "entrada = np.array([[100.0]], dtype=np.float32)\n",
        "resultado = modelo.predict(entrada)\n",
        "print(\"El resultado es \" + str(resultado[0][0]) + \"fahrenheit!\")"
      ],
      "metadata": {
        "colab": {
          "base_uri": "https://localhost:8080/"
        },
        "id": "0xSnPDKqm48s",
        "outputId": "2b27941f-c8cd-44b3-f656-648296c481aa"
      },
      "execution_count": 13,
      "outputs": [
        {
          "output_type": "stream",
          "name": "stdout",
          "text": [
            "realizando predicción!\n",
            "\u001b[1m1/1\u001b[0m \u001b[32m━━━━━━━━━━━━━━━━━━━━\u001b[0m\u001b[37m\u001b[0m \u001b[1m0s\u001b[0m 67ms/step\n",
            "El resultado es 211.7474fahrenheit!\n"
          ]
        }
      ]
    }
  ]
}